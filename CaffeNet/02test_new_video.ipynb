{
 "cells": [
  {
   "cell_type": "code",
   "execution_count": 1,
   "metadata": {
    "collapsed": true
   },
   "outputs": [],
   "source": [
    "import mxnet as mx\n",
    "import os, urllib\n",
    "import logging\n",
    "import matplotlib.pyplot as plt\n",
    "import cv2\n",
    "from collections import namedtuple\n",
    "import numpy as np\n",
    "\n",
    "%matplotlib inline\n",
    "\n",
    "head = '%(asctime)-15s %(message)s'\n",
    "logging.basicConfig(level=logging.DEBUG, format=head)"
   ]
  },
  {
   "cell_type": "code",
   "execution_count": 2,
   "metadata": {},
   "outputs": [
    {
     "name": "stderr",
     "output_type": "stream",
     "text": [
      "/home/srip_face/.local/lib/python2.7/site-packages/mxnet/module/base_module.py:65: UserWarning: Data provided by label_shapes don't match names specified by label_names ([] vs. ['softmax_label'])\n",
      "  warnings.warn(msg)\n"
     ]
    }
   ],
   "source": [
    "dshape = [('data', (1,3,224,224))]\n",
    "\n",
    "def load_model(s_fname, p_fname):\n",
    "    \"\"\"\n",
    "    Load model checkpoint from file.\n",
    "    :return: (arg_params, aux_params)\n",
    "    arg_params : dict of str to NDArray\n",
    "        Model parameter, dict of name to NDArray of net's weights.\n",
    "    aux_params : dict of str to NDArray\n",
    "        Model parameter, dict of name to NDArray of net's auxiliary states.\n",
    "    \"\"\"\n",
    "    symbol = mx.symbol.load(s_fname)\n",
    "    save_dict = mx.nd.load(p_fname)\n",
    "    arg_params = {}\n",
    "    aux_params = {}\n",
    "    for k, v in save_dict.items():\n",
    "        tp, name = k.split(':', 1)\n",
    "        if tp == 'arg':\n",
    "            arg_params[name] = v\n",
    "        if tp == 'aux':\n",
    "            aux_params[name] = v\n",
    "    return symbol, arg_params, aux_params\n",
    "\n",
    "model_symbol = \"caffenet-mxnet-jump-start-bootstrap-symbol.json\"\n",
    "model_params = \"caffenet-mxnet-jump-start-bootstrap-0010.params\"\n",
    "sym, arg_params, aux_params = load_model(model_symbol, model_params)\n",
    "mod = mx.mod.Module(symbol=sym)\n",
    "\n",
    "# bind the model and set training == False; Define the data shape\n",
    "mod.bind(for_training=False, data_shapes=dshape)\n",
    "mod.set_params(arg_params, aux_params)"
   ]
  },
  {
   "cell_type": "code",
   "execution_count": 13,
   "metadata": {
    "collapsed": true
   },
   "outputs": [],
   "source": [
    "Batch = namedtuple('Batch', ['data'])\n",
    "\n",
    "def preprocess_image(img, show_img=False):\n",
    "    '''\n",
    "    convert the image to a numpy array\n",
    "    '''\n",
    "    img = cv2.resize(img, (224, 224))\n",
    "    img = np.swapaxes(img, 0, 2)\n",
    "    img = np.swapaxes(img, 1, 2) \n",
    "    img = img[np.newaxis, :] \n",
    "    return img\n",
    "\n",
    "v_dir = '/data3/yingwei/vidDB/diving_share/firstphase/video_first10/RWNrARSbRCY_000.mp4'\n",
    "# v_dir = '/data3/yingwei/vidDB/diving_share/firstphase/video_first10/cYkUl8MrXgA_190.mp4'\n",
    "scores = []\n",
    "times = []\n",
    "cap = cv2.VideoCapture(v_dir)\n",
    "if cap.isOpened():\n",
    "    fps = cap.get(5)\n",
    "    step = int(fps/4.0)\n",
    "    c = 0\n",
    "    cap.set(1,0)\n",
    "    while True:\n",
    "        ret = cap.grab()\n",
    "        if not ret:\n",
    "            break\n",
    "        if c%step != 0:\n",
    "            c += 1\n",
    "            continue\n",
    "        ret, frame = cap.retrieve()\n",
    "        if not ret:\n",
    "            break\n",
    "        img = preprocess_image(frame)\n",
    "        mod.forward(Batch([mx.nd.array(img)]))\n",
    "        \n",
    "        # predict\n",
    "        prob = mod.get_outputs()[0].asnumpy()\n",
    "        scores.append(prob[0][1].copy())\n",
    "        times.append(c/fps)\n",
    "        c += 1"
   ]
  },
  {
   "cell_type": "code",
   "execution_count": 19,
   "metadata": {},
   "outputs": [
    {
     "data": {
      "text/plain": [
       "<matplotlib.text.Text at 0x7fa209c37d50>"
      ]
     },
     "execution_count": 19,
     "metadata": {},
     "output_type": "execute_result"
    },
    {
     "data": {
      "image/png": "[encoded data removed]",
      "text/plain": [
       "<matplotlib.figure.Figure at 0x7fa209b9b910>"
      ]
     },
     "metadata": {},
     "output_type": "display_data"
    }
   ],
   "source": [
    "plt.plot(times, scores)\n",
    "plt.title('')"
   ]
  },
  {
   "cell_type": "code",
   "execution_count": 15,
   "metadata": {
    "collapsed": true
   },
   "outputs": [],
   "source": [
    "cap.set(1,0)\n",
    "ret,frame = cap.read()\n",
    "height, width, channels = frame.shape\n",
    "\n",
    "# Define the codec and create VideoWriter object\n",
    "# fourcc = cv2.VideoWriter_fourcc(*'xvid') # Be sure to use lower case\n",
    "fourcc = cv2.cv.CV_FOURCC(*'xvid')\n",
    "out = cv2.VideoWriter(v_dir.split('/')[-1].split('.')[0]+'_bootstrap.avi', fourcc, 5.0, (width, height))"
   ]
  },
  {
   "cell_type": "code",
   "execution_count": 16,
   "metadata": {
    "collapsed": true
   },
   "outputs": [],
   "source": [
    "for i,itm in enumerate(scores):\n",
    "    cap.set(1,times[i]*fps)\n",
    "    ret,frame = cap.read()\n",
    "    if not ret:\n",
    "        continue\n",
    "    if itm>0.5:\n",
    "        cv2.putText(frame, \"{0:.2f}\".format(itm), (0,100), cv2.FONT_HERSHEY_SIMPLEX, 1,(0,255,255),2)\n",
    "    else:\n",
    "        cv2.putText(frame, \"{0:.2f}\".format(itm), (0,100), cv2.FONT_HERSHEY_SIMPLEX, 1,(255,0,255),2)\n",
    "    out.write(frame)"
   ]
  },
  {
   "cell_type": "code",
   "execution_count": 17,
   "metadata": {
    "collapsed": true
   },
   "outputs": [],
   "source": [
    "out.release()"
   ]
  }
 ],
 "metadata": {
  "kernelspec": {
   "display_name": "Python 2",
   "language": "python",
   "name": "python2"
  },
  "language_info": {
   "codemirror_mode": {
    "name": "ipython",
    "version": 2
   },
   "file_extension": ".py",
   "mimetype": "text/x-python",
   "name": "python",
   "nbconvert_exporter": "python",
   "pygments_lexer": "ipython2",
   "version": "2.7.6"
  }
 },
 "nbformat": 4,
 "nbformat_minor": 2
}
