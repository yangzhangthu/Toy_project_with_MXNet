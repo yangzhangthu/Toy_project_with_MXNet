{
 "cells": [
  {
   "cell_type": "code",
   "execution_count": 1,
   "metadata": {
    "collapsed": true
   },
   "outputs": [],
   "source": [
    "import json\n",
    "import numpy as np\n",
    "import random\n",
    "import cv2\n",
    "import matplotlib.pyplot as plt\n",
    "import mxnet as mx\n",
    "import os, urllib\n",
    "from collections import namedtuple\n",
    "%matplotlib inline"
   ]
  },
  {
   "cell_type": "code",
   "execution_count": 2,
   "metadata": {
    "collapsed": true
   },
   "outputs": [],
   "source": [
    "def get_list():\n",
    "    json_dir = '/data3/srip_face/diving/code/Label_review/result/'\n",
    "    f_lst = []\n",
    "    for itm in os.listdir(json_dir):\n",
    "        if itm.startswith('seg') and itm != 'seg_006.json':\n",
    "            f_lst.append(json_dir+itm)\n",
    "    lst = []\n",
    "    for itm in f_lst:\n",
    "        with open(itm, 'r') as f:\n",
    "            lst.extend(json.load(f))\n",
    "    random.seed(1234)\n",
    "    random.shuffle(lst)\n",
    "    return lst"
   ]
  },
  {
   "cell_type": "code",
   "execution_count": 3,
   "metadata": {},
   "outputs": [
    {
     "name": "stderr",
     "output_type": "stream",
     "text": [
      "/home/srip_face/.local/lib/python2.7/site-packages/mxnet/module/base_module.py:65: UserWarning: Data provided by label_shapes don't match names specified by label_names ([] vs. ['softmax_label'])\n",
      "  warnings.warn(msg)\n"
     ]
    }
   ],
   "source": [
    "def load_model(s_fname, p_fname):\n",
    "    \"\"\"\n",
    "    Load model checkpoint from file.\n",
    "    :return: (arg_params, aux_params)\n",
    "    arg_params : dict of str to NDArray\n",
    "        Model parameter, dict of name to NDArray of net's weights.\n",
    "    aux_params : dict of str to NDArray\n",
    "        Model parameter, dict of name to NDArray of net's auxiliary states.\n",
    "    \"\"\"\n",
    "    symbol = mx.symbol.load(s_fname)\n",
    "    save_dict = mx.nd.load(p_fname)\n",
    "    arg_params = {}\n",
    "    aux_params = {}\n",
    "    for k, v in save_dict.items():\n",
    "        tp, name = k.split(':', 1)\n",
    "        if tp == 'arg':\n",
    "            arg_params[name] = v\n",
    "        if tp == 'aux':\n",
    "            aux_params[name] = v\n",
    "    return symbol, arg_params, aux_params\n",
    "\n",
    "model_symbol = \"caffenet-mxnet-jump-start-128-symbol.json\"\n",
    "model_params = \"caffenet-mxnet-jump-start-128-0005.params\"\n",
    "sym, arg_params, aux_params = load_model(model_symbol, model_params)\n",
    "mod = mx.mod.Module(symbol=sym)\n",
    "\n",
    "# bind the model and set training == False; Define the data shape\n",
    "dshape = [('data', (1,3,224,224))]\n",
    "mod.bind(for_training=False, data_shapes=dshape)\n",
    "mod.set_params(arg_params, aux_params)"
   ]
  },
  {
   "cell_type": "code",
   "execution_count": 4,
   "metadata": {},
   "outputs": [
    {
     "name": "stdout",
     "output_type": "stream",
     "text": [
      "260\n"
     ]
    }
   ],
   "source": [
    "lst = get_list()\n",
    "t = int(0.8*len(lst))\n",
    "print t\n",
    "train_lst = lst[0:t]"
   ]
  },
  {
   "cell_type": "code",
   "execution_count": 5,
   "metadata": {
    "collapsed": true
   },
   "outputs": [],
   "source": [
    "def get_start_time(lst):\n",
    "    lst2 = []\n",
    "    for itm in lst:\n",
    "        lst2.append(itm['time'][0])\n",
    "    return lst2"
   ]
  },
  {
   "cell_type": "code",
   "execution_count": 6,
   "metadata": {
    "collapsed": true
   },
   "outputs": [],
   "source": [
    "def time_check(c, time, fps):\n",
    "    t = c*1.0/fps\n",
    "    for idx,itm in enumerate(time):\n",
    "        if idx==0 and t>itm-3 and t<itm+1.5:\n",
    "            return False\n",
    "        if idx!=0 and t>itm-0.5 and t<itm+1:\n",
    "            return False\n",
    "    return True"
   ]
  },
  {
   "cell_type": "code",
   "execution_count": 7,
   "metadata": {},
   "outputs": [
    {
     "name": "stdout",
     "output_type": "stream",
     "text": [
      "12510\n"
     ]
    }
   ],
   "source": [
    "Batch = namedtuple('Batch', ['data'])\n",
    "THRESHOLD = 0.6\n",
    "\n",
    "def preprocess_image(img, show_img=False):\n",
    "    '''\n",
    "    convert the image to a numpy array\n",
    "    '''\n",
    "    img = cv2.resize(img, (224, 224))\n",
    "    img = np.swapaxes(img, 0, 2)\n",
    "    img = np.swapaxes(img, 1, 2) \n",
    "    img = img[np.newaxis, :] \n",
    "    return img\n",
    "\n",
    "total_list = []\n",
    "indx = 0\n",
    "for idex,itm in enumerate(train_lst):\n",
    "    v_dir = '/data3/yingwei/vidDB/diving_share/firstphase/video_first10/' + itm[0] + '.mp4'\n",
    "    time = get_start_time(itm[1])\n",
    "    cap = cv2.VideoCapture(v_dir)\n",
    "    t_list = []\n",
    "    if cap.isOpened():\n",
    "        fps = cap.get(5)\n",
    "        step = int(fps/4.0)\n",
    "        c = 0\n",
    "        cap.set(1,0)\n",
    "        while True:\n",
    "            ret = cap.grab()\n",
    "            if not ret:\n",
    "                break\n",
    "            if c%step != 0:\n",
    "                c += 1\n",
    "                continue\n",
    "            ret, frame = cap.retrieve()\n",
    "            if not ret:\n",
    "                break\n",
    "            img = preprocess_image(frame)\n",
    "            mod.forward(Batch([mx.nd.array(img)]))\n",
    "\n",
    "            # predict\n",
    "            prob = mod.get_outputs()[0].asnumpy()\n",
    "            score = prob[0][1].copy()\n",
    "            if score>THRESHOLD and time_check(c, time, fps):\n",
    "                t_list.append(c)\n",
    "                cv2.imwrite('/data4/srip_face/img/jump_detector/train/0bg/bootstrap_' + format(indx, '05d') + '.jpg',frame)\n",
    "                indx += 1\n",
    "            c += 1\n",
    "        total_list.append(t_list)\n",
    "print indx"
   ]
  },
  {
   "cell_type": "code",
   "execution_count": 8,
   "metadata": {},
   "outputs": [
    {
     "name": "stdout",
     "output_type": "stream",
     "text": [
      "12510\n"
     ]
    }
   ],
   "source": [
    "n_fr_ = 0\n",
    "for itm in total_list:\n",
    "    n_fr_ += len(itm)\n",
    "print n_fr_"
   ]
  }
 ],
 "metadata": {
  "kernelspec": {
   "display_name": "Python 2",
   "language": "python",
   "name": "python2"
  },
  "language_info": {
   "codemirror_mode": {
    "name": "ipython",
    "version": 2
   },
   "file_extension": ".py",
   "mimetype": "text/x-python",
   "name": "python",
   "nbconvert_exporter": "python",
   "pygments_lexer": "ipython2",
   "version": "2.7.6"
  }
 },
 "nbformat": 4,
 "nbformat_minor": 2
}
